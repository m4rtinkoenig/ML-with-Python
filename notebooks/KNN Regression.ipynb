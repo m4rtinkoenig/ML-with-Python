{
 "cells": [
  {
   "cell_type": "code",
   "execution_count": 1,
   "id": "5d37b5ac",
   "metadata": {},
   "outputs": [
    {
     "name": "stderr",
     "output_type": "stream",
     "text": [
      "Duplicate key in file '/Users/martin/.matplotlib/matplotlibrc', line 2 ('backend: TkAgg')\n"
     ]
    }
   ],
   "source": [
    "import os, sys\n",
    "import numpy as np\n",
    "import pandas as pd\n",
    "from tqdm.notebook import tqdm  # progress meter\n",
    "\n",
    "import matplotlib.pyplot as plt\n",
    "%matplotlib inline\n",
    "import seaborn"
   ]
  },
  {
   "cell_type": "code",
   "execution_count": 2,
   "id": "82d17b9e",
   "metadata": {},
   "outputs": [
    {
     "name": "stdout",
     "output_type": "stream",
     "text": [
      "id\n",
      "cholesterol\n",
      "gluc\n",
      "smoke\n",
      "alco\n",
      "active\n",
      "diabetes\n",
      "age\n",
      "height\n",
      "weight\n",
      "gender\n",
      "ind\n",
      "pressure_high\n",
      "pressure_low\n"
     ]
    }
   ],
   "source": [
    "diabetes = pd.read_csv('data/diabetes_v3.csv')\n",
    "print(\"\\n\".join([*diabetes.columns]))"
   ]
  },
  {
   "cell_type": "code",
   "execution_count": 3,
   "id": "bd74891a",
   "metadata": {},
   "outputs": [
    {
     "data": {
      "text/html": [
       "<div>\n",
       "<style scoped>\n",
       "    .dataframe tbody tr th:only-of-type {\n",
       "        vertical-align: middle;\n",
       "    }\n",
       "\n",
       "    .dataframe tbody tr th {\n",
       "        vertical-align: top;\n",
       "    }\n",
       "\n",
       "    .dataframe thead th {\n",
       "        text-align: right;\n",
       "    }\n",
       "</style>\n",
       "<table border=\"1\" class=\"dataframe\">\n",
       "  <thead>\n",
       "    <tr style=\"text-align: right;\">\n",
       "      <th></th>\n",
       "      <th>id</th>\n",
       "      <th>cholesterol</th>\n",
       "      <th>gluc</th>\n",
       "      <th>smoke</th>\n",
       "      <th>alco</th>\n",
       "      <th>active</th>\n",
       "      <th>diabetes</th>\n",
       "      <th>age</th>\n",
       "      <th>height</th>\n",
       "      <th>weight</th>\n",
       "      <th>gender</th>\n",
       "      <th>ind</th>\n",
       "      <th>pressure_high</th>\n",
       "      <th>pressure_low</th>\n",
       "    </tr>\n",
       "  </thead>\n",
       "  <tbody>\n",
       "    <tr>\n",
       "      <th>0</th>\n",
       "      <td>62538</td>\n",
       "      <td>0</td>\n",
       "      <td>0</td>\n",
       "      <td>0</td>\n",
       "      <td>0</td>\n",
       "      <td>1</td>\n",
       "      <td>0</td>\n",
       "      <td>54.0000</td>\n",
       "      <td>169.0000</td>\n",
       "      <td>76.0000</td>\n",
       "      <td>1</td>\n",
       "      <td>train</td>\n",
       "      <td>100.0000</td>\n",
       "      <td>80.0000</td>\n",
       "    </tr>\n",
       "    <tr>\n",
       "      <th>1</th>\n",
       "      <td>49159</td>\n",
       "      <td>0</td>\n",
       "      <td>0</td>\n",
       "      <td>0</td>\n",
       "      <td>0</td>\n",
       "      <td>1</td>\n",
       "      <td>0</td>\n",
       "      <td>49.0000</td>\n",
       "      <td>165.0000</td>\n",
       "      <td>65.0000</td>\n",
       "      <td>0</td>\n",
       "      <td>train</td>\n",
       "      <td>120.0000</td>\n",
       "      <td>82.0000</td>\n",
       "    </tr>\n",
       "    <tr>\n",
       "      <th>2</th>\n",
       "      <td>60683</td>\n",
       "      <td>0</td>\n",
       "      <td>0</td>\n",
       "      <td>0</td>\n",
       "      <td>0</td>\n",
       "      <td>1</td>\n",
       "      <td>0</td>\n",
       "      <td>60.1699</td>\n",
       "      <td>170.0000</td>\n",
       "      <td>56.0000</td>\n",
       "      <td>0</td>\n",
       "      <td>train</td>\n",
       "      <td>120.0000</td>\n",
       "      <td>80.0000</td>\n",
       "    </tr>\n",
       "    <tr>\n",
       "      <th>3</th>\n",
       "      <td>42924</td>\n",
       "      <td>0</td>\n",
       "      <td>0</td>\n",
       "      <td>0</td>\n",
       "      <td>0</td>\n",
       "      <td>0</td>\n",
       "      <td>0</td>\n",
       "      <td>55.5808</td>\n",
       "      <td>169.0000</td>\n",
       "      <td>62.0000</td>\n",
       "      <td>0</td>\n",
       "      <td>train</td>\n",
       "      <td>120.0000</td>\n",
       "      <td>80.0000</td>\n",
       "    </tr>\n",
       "    <tr>\n",
       "      <th>4</th>\n",
       "      <td>52888</td>\n",
       "      <td>0</td>\n",
       "      <td>0</td>\n",
       "      <td>0</td>\n",
       "      <td>0</td>\n",
       "      <td>0</td>\n",
       "      <td>0</td>\n",
       "      <td>44.3890</td>\n",
       "      <td>166.0000</td>\n",
       "      <td>67.0000</td>\n",
       "      <td>0</td>\n",
       "      <td>train</td>\n",
       "      <td>120.0000</td>\n",
       "      <td>80.0000</td>\n",
       "    </tr>\n",
       "  </tbody>\n",
       "</table>\n",
       "</div>"
      ],
      "text/plain": [
       "      id  cholesterol  gluc  smoke  alco  active  diabetes     age   height  \\\n",
       "0  62538            0     0      0     0       1         0 54.0000 169.0000   \n",
       "1  49159            0     0      0     0       1         0 49.0000 165.0000   \n",
       "2  60683            0     0      0     0       1         0 60.1699 170.0000   \n",
       "3  42924            0     0      0     0       0         0 55.5808 169.0000   \n",
       "4  52888            0     0      0     0       0         0 44.3890 166.0000   \n",
       "\n",
       "   weight  gender    ind  pressure_high  pressure_low  \n",
       "0 76.0000       1  train       100.0000       80.0000  \n",
       "1 65.0000       0  train       120.0000       82.0000  \n",
       "2 56.0000       0  train       120.0000       80.0000  \n",
       "3 62.0000       0  train       120.0000       80.0000  \n",
       "4 67.0000       0  train       120.0000       80.0000  "
      ]
     },
     "execution_count": 3,
     "metadata": {},
     "output_type": "execute_result"
    }
   ],
   "source": [
    "pd.set_option('display.float_format', lambda x: '%.4f' % x)\n",
    "diabetes.head()"
   ]
  },
  {
   "cell_type": "code",
   "execution_count": 4,
   "id": "9c719bce",
   "metadata": {},
   "outputs": [
    {
     "data": {
      "text/html": [
       "<div>\n",
       "<style scoped>\n",
       "    .dataframe tbody tr th:only-of-type {\n",
       "        vertical-align: middle;\n",
       "    }\n",
       "\n",
       "    .dataframe tbody tr th {\n",
       "        vertical-align: top;\n",
       "    }\n",
       "\n",
       "    .dataframe thead th {\n",
       "        text-align: right;\n",
       "    }\n",
       "</style>\n",
       "<table border=\"1\" class=\"dataframe\">\n",
       "  <thead>\n",
       "    <tr style=\"text-align: right;\">\n",
       "      <th></th>\n",
       "      <th>id</th>\n",
       "      <th>cholesterol</th>\n",
       "      <th>gluc</th>\n",
       "      <th>smoke</th>\n",
       "      <th>alco</th>\n",
       "      <th>active</th>\n",
       "      <th>diabetes</th>\n",
       "      <th>age</th>\n",
       "      <th>height</th>\n",
       "      <th>weight</th>\n",
       "      <th>gender</th>\n",
       "      <th>pressure_high</th>\n",
       "      <th>pressure_low</th>\n",
       "    </tr>\n",
       "  </thead>\n",
       "  <tbody>\n",
       "    <tr>\n",
       "      <th>mean</th>\n",
       "      <td>49973.4686</td>\n",
       "      <td>0.3680</td>\n",
       "      <td>0.2273</td>\n",
       "      <td>0.0879</td>\n",
       "      <td>0.0539</td>\n",
       "      <td>0.8033</td>\n",
       "      <td>0.2508</td>\n",
       "      <td>53.1829</td>\n",
       "      <td>164.3236</td>\n",
       "      <td>74.1938</td>\n",
       "      <td>0.3480</td>\n",
       "      <td>128.5207</td>\n",
       "      <td>96.8267</td>\n",
       "    </tr>\n",
       "    <tr>\n",
       "      <th>std</th>\n",
       "      <td>28845.5238</td>\n",
       "      <td>0.6812</td>\n",
       "      <td>0.5733</td>\n",
       "      <td>0.2832</td>\n",
       "      <td>0.2258</td>\n",
       "      <td>0.3975</td>\n",
       "      <td>0.4335</td>\n",
       "      <td>6.7691</td>\n",
       "      <td>8.2107</td>\n",
       "      <td>14.6389</td>\n",
       "      <td>0.4763</td>\n",
       "      <td>138.6072</td>\n",
       "      <td>190.8739</td>\n",
       "    </tr>\n",
       "    <tr>\n",
       "      <th>min</th>\n",
       "      <td>0.0000</td>\n",
       "      <td>0.0000</td>\n",
       "      <td>0.0000</td>\n",
       "      <td>0.0000</td>\n",
       "      <td>0.0000</td>\n",
       "      <td>0.0000</td>\n",
       "      <td>0.0000</td>\n",
       "      <td>29.5836</td>\n",
       "      <td>55.0000</td>\n",
       "      <td>10.0000</td>\n",
       "      <td>0.0000</td>\n",
       "      <td>1.0000</td>\n",
       "      <td>0.0000</td>\n",
       "    </tr>\n",
       "    <tr>\n",
       "      <th>25%</th>\n",
       "      <td>25027.2500</td>\n",
       "      <td>0.0000</td>\n",
       "      <td>0.0000</td>\n",
       "      <td>0.0000</td>\n",
       "      <td>0.0000</td>\n",
       "      <td>1.0000</td>\n",
       "      <td>0.0000</td>\n",
       "      <td>48.2856</td>\n",
       "      <td>159.0000</td>\n",
       "      <td>64.0000</td>\n",
       "      <td>0.0000</td>\n",
       "      <td>120.0000</td>\n",
       "      <td>80.0000</td>\n",
       "    </tr>\n",
       "    <tr>\n",
       "      <th>50%</th>\n",
       "      <td>50004.5000</td>\n",
       "      <td>0.0000</td>\n",
       "      <td>0.0000</td>\n",
       "      <td>0.0000</td>\n",
       "      <td>0.0000</td>\n",
       "      <td>1.0000</td>\n",
       "      <td>0.0000</td>\n",
       "      <td>53.9644</td>\n",
       "      <td>165.0000</td>\n",
       "      <td>71.0000</td>\n",
       "      <td>0.0000</td>\n",
       "      <td>120.0000</td>\n",
       "      <td>80.0000</td>\n",
       "    </tr>\n",
       "    <tr>\n",
       "      <th>75%</th>\n",
       "      <td>74876.7500</td>\n",
       "      <td>1.0000</td>\n",
       "      <td>0.0000</td>\n",
       "      <td>0.0000</td>\n",
       "      <td>0.0000</td>\n",
       "      <td>1.0000</td>\n",
       "      <td>1.0000</td>\n",
       "      <td>58.3342</td>\n",
       "      <td>170.0000</td>\n",
       "      <td>82.0000</td>\n",
       "      <td>1.0000</td>\n",
       "      <td>140.0000</td>\n",
       "      <td>90.0000</td>\n",
       "    </tr>\n",
       "    <tr>\n",
       "      <th>max</th>\n",
       "      <td>99999.0000</td>\n",
       "      <td>2.0000</td>\n",
       "      <td>2.0000</td>\n",
       "      <td>1.0000</td>\n",
       "      <td>1.0000</td>\n",
       "      <td>1.0000</td>\n",
       "      <td>1.0000</td>\n",
       "      <td>64.9342</td>\n",
       "      <td>250.0000</td>\n",
       "      <td>200.0000</td>\n",
       "      <td>1.0000</td>\n",
       "      <td>16020.0000</td>\n",
       "      <td>11000.0000</td>\n",
       "    </tr>\n",
       "  </tbody>\n",
       "</table>\n",
       "</div>"
      ],
      "text/plain": [
       "             id  cholesterol   gluc  smoke   alco  active  diabetes     age  \\\n",
       "mean 49973.4686       0.3680 0.2273 0.0879 0.0539  0.8033    0.2508 53.1829   \n",
       "std  28845.5238       0.6812 0.5733 0.2832 0.2258  0.3975    0.4335  6.7691   \n",
       "min      0.0000       0.0000 0.0000 0.0000 0.0000  0.0000    0.0000 29.5836   \n",
       "25%  25027.2500       0.0000 0.0000 0.0000 0.0000  1.0000    0.0000 48.2856   \n",
       "50%  50004.5000       0.0000 0.0000 0.0000 0.0000  1.0000    0.0000 53.9644   \n",
       "75%  74876.7500       1.0000 0.0000 0.0000 0.0000  1.0000    1.0000 58.3342   \n",
       "max  99999.0000       2.0000 2.0000 1.0000 1.0000  1.0000    1.0000 64.9342   \n",
       "\n",
       "       height   weight  gender  pressure_high  pressure_low  \n",
       "mean 164.3236  74.1938  0.3480       128.5207       96.8267  \n",
       "std    8.2107  14.6389  0.4763       138.6072      190.8739  \n",
       "min   55.0000  10.0000  0.0000         1.0000        0.0000  \n",
       "25%  159.0000  64.0000  0.0000       120.0000       80.0000  \n",
       "50%  165.0000  71.0000  0.0000       120.0000       80.0000  \n",
       "75%  170.0000  82.0000  1.0000       140.0000       90.0000  \n",
       "max  250.0000 200.0000  1.0000     16020.0000    11000.0000  "
      ]
     },
     "execution_count": 4,
     "metadata": {},
     "output_type": "execute_result"
    }
   ],
   "source": [
    "diabetes.describe().drop(\"count\")"
   ]
  },
  {
   "cell_type": "code",
   "execution_count": 5,
   "id": "683d842c",
   "metadata": {},
   "outputs": [
    {
     "name": "stdout",
     "output_type": "stream",
     "text": [
      "(67682, 14)\n"
     ]
    }
   ],
   "source": [
    "print(f\"{diabetes.shape}\")"
   ]
  },
  {
   "cell_type": "code",
   "execution_count": 6,
   "id": "429dff77",
   "metadata": {},
   "outputs": [
    {
     "name": "stdout",
     "output_type": "stream",
     "text": [
      "diabetes\n",
      "0    50706\n",
      "1    16976\n",
      "dtype: int64\n"
     ]
    }
   ],
   "source": [
    "print(diabetes.groupby('diabetes').size())"
   ]
  },
  {
   "cell_type": "code",
   "execution_count": 7,
   "id": "2af49763",
   "metadata": {},
   "outputs": [
    {
     "name": "stderr",
     "output_type": "stream",
     "text": [
      "/Users/martin/dev/ML-with-Python/venv/lib/python3.9/site-packages/seaborn/_decorators.py:36: FutureWarning: Pass the following variable as a keyword arg: x. From version 0.12, the only valid positional argument will be `data`, and passing other arguments without an explicit keyword will result in an error or misinterpretation.\n",
      "  warnings.warn(\n"
     ]
    },
    {
     "data": {
      "text/plain": [
       "<AxesSubplot:xlabel='diabetes', ylabel='count'>"
      ]
     },
     "execution_count": 7,
     "metadata": {},
     "output_type": "execute_result"
    },
    {
     "data": {
      "image/png": "[encoded data removed]",
      "text/plain": [
       "<Figure size 432x288 with 1 Axes>"
      ]
     },
     "metadata": {
      "needs_background": "light"
     },
     "output_type": "display_data"
    }
   ],
   "source": [
    "seaborn.countplot(diabetes['diabetes'], label=\"Count\")"
   ]
  },
  {
   "cell_type": "code",
   "execution_count": 8,
   "id": "40dcef42",
   "metadata": {},
   "outputs": [
    {
     "data": {
      "text/html": [
       "<div>\n",
       "<style scoped>\n",
       "    .dataframe tbody tr th:only-of-type {\n",
       "        vertical-align: middle;\n",
       "    }\n",
       "\n",
       "    .dataframe tbody tr th {\n",
       "        vertical-align: top;\n",
       "    }\n",
       "\n",
       "    .dataframe thead th {\n",
       "        text-align: right;\n",
       "    }\n",
       "</style>\n",
       "<table border=\"1\" class=\"dataframe\">\n",
       "  <thead>\n",
       "    <tr style=\"text-align: right;\">\n",
       "      <th>diabetes</th>\n",
       "      <th>0</th>\n",
       "      <th>1</th>\n",
       "    </tr>\n",
       "  </thead>\n",
       "  <tbody>\n",
       "    <tr>\n",
       "      <th>id</th>\n",
       "      <td>49895.4642</td>\n",
       "      <td>50206.4619</td>\n",
       "    </tr>\n",
       "    <tr>\n",
       "      <th>cholesterol</th>\n",
       "      <td>0.1895</td>\n",
       "      <td>0.9013</td>\n",
       "    </tr>\n",
       "    <tr>\n",
       "      <th>gluc</th>\n",
       "      <td>0.0407</td>\n",
       "      <td>0.7847</td>\n",
       "    </tr>\n",
       "    <tr>\n",
       "      <th>smoke</th>\n",
       "      <td>0.0766</td>\n",
       "      <td>0.1216</td>\n",
       "    </tr>\n",
       "    <tr>\n",
       "      <th>alco</th>\n",
       "      <td>0.0468</td>\n",
       "      <td>0.0750</td>\n",
       "    </tr>\n",
       "    <tr>\n",
       "      <th>active</th>\n",
       "      <td>0.8656</td>\n",
       "      <td>0.6172</td>\n",
       "    </tr>\n",
       "    <tr>\n",
       "      <th>age</th>\n",
       "      <td>52.1100</td>\n",
       "      <td>56.3874</td>\n",
       "    </tr>\n",
       "    <tr>\n",
       "      <th>height</th>\n",
       "      <td>163.6863</td>\n",
       "      <td>166.2273</td>\n",
       "    </tr>\n",
       "    <tr>\n",
       "      <th>weight</th>\n",
       "      <td>71.0550</td>\n",
       "      <td>83.5693</td>\n",
       "    </tr>\n",
       "    <tr>\n",
       "      <th>gender</th>\n",
       "      <td>0.2859</td>\n",
       "      <td>0.5333</td>\n",
       "    </tr>\n",
       "    <tr>\n",
       "      <th>pressure_high</th>\n",
       "      <td>125.4209</td>\n",
       "      <td>137.7795</td>\n",
       "    </tr>\n",
       "    <tr>\n",
       "      <th>pressure_low</th>\n",
       "      <td>79.6932</td>\n",
       "      <td>148.0029</td>\n",
       "    </tr>\n",
       "  </tbody>\n",
       "</table>\n",
       "</div>"
      ],
      "text/plain": [
       "diabetes               0          1\n",
       "id            49895.4642 50206.4619\n",
       "cholesterol       0.1895     0.9013\n",
       "gluc              0.0407     0.7847\n",
       "smoke             0.0766     0.1216\n",
       "alco              0.0468     0.0750\n",
       "active            0.8656     0.6172\n",
       "age              52.1100    56.3874\n",
       "height          163.6863   166.2273\n",
       "weight           71.0550    83.5693\n",
       "gender            0.2859     0.5333\n",
       "pressure_high   125.4209   137.7795\n",
       "pressure_low     79.6932   148.0029"
      ]
     },
     "execution_count": 8,
     "metadata": {},
     "output_type": "execute_result"
    }
   ],
   "source": [
    "diabetes.groupby('diabetes').mean().T"
   ]
  },
  {
   "cell_type": "code",
   "execution_count": 9,
   "id": "6ad83fa9",
   "metadata": {
    "scrolled": true
   },
   "outputs": [
    {
     "name": "stdout",
     "output_type": "stream",
     "text": [
      "<class 'pandas.core.frame.DataFrame'>\n",
      "RangeIndex: 67682 entries, 0 to 67681\n",
      "Data columns (total 14 columns):\n",
      " #   Column         Non-Null Count  Dtype  \n",
      "---  ------         --------------  -----  \n",
      " 0   id             67682 non-null  int64  \n",
      " 1   cholesterol    67682 non-null  int64  \n",
      " 2   gluc           67682 non-null  int64  \n",
      " 3   smoke          67682 non-null  int64  \n",
      " 4   alco           67682 non-null  int64  \n",
      " 5   active         67682 non-null  int64  \n",
      " 6   diabetes       67682 non-null  int64  \n",
      " 7   age            67682 non-null  float64\n",
      " 8   height         67682 non-null  float64\n",
      " 9   weight         67682 non-null  float64\n",
      " 10  gender         67682 non-null  int64  \n",
      " 11  ind            67682 non-null  object \n",
      " 12  pressure_high  67682 non-null  float64\n",
      " 13  pressure_low   67682 non-null  float64\n",
      "dtypes: float64(5), int64(8), object(1)\n",
      "memory usage: 7.2+ MB\n"
     ]
    }
   ],
   "source": [
    "diabetes.info()"
   ]
  },
  {
   "cell_type": "markdown",
   "id": "5749074b",
   "metadata": {},
   "source": [
    "### k-Nearest Neighbors"
   ]
  },
  {
   "cell_type": "code",
   "execution_count": 10,
   "id": "594fb565",
   "metadata": {},
   "outputs": [],
   "source": [
    "features = [\n",
    "    'cholesterol', \n",
    "    'gluc', \n",
    "    'smoke', \n",
    "    'alco', \n",
    "    'active', \n",
    "    'age', \n",
    "    'height', \n",
    "    'weight', \n",
    "    'gender', \n",
    "    'pressure_high',\n",
    "    'pressure_low'\n",
    "]"
   ]
  },
  {
   "cell_type": "markdown",
   "id": "80d2e382",
   "metadata": {},
   "source": [
    "Let's normalize the data before training the model. We normalize the test data with the feature min and feature max from the training data."
   ]
  },
  {
   "cell_type": "markdown",
   "id": "3d97199e",
   "metadata": {},
   "source": [
    "#### Train and test data"
   ]
  },
  {
   "cell_type": "code",
   "execution_count": 11,
   "id": "e8e10dad",
   "metadata": {},
   "outputs": [],
   "source": [
    "# Train data\n",
    "X_train = diabetes[diabetes[\"ind\"].eq(\"train\")][features]\n",
    "feature_min, feature_max = X_train.min(), X_train.max()\n",
    "\n",
    "# Test data\n",
    "X_test = diabetes[diabetes[\"ind\"].eq(\"test\")][features]\n",
    "\n",
    "# Min-Max-Normalization\n",
    "X_train = (X_train - feature_min)/(feature_max - feature_min)\n",
    "X_test = (X_test - feature_min)/(feature_max - feature_min)\n",
    "\n",
    "# Labels\n",
    "y_train = diabetes[diabetes[\"ind\"].eq(\"train\")][\"diabetes\"]\n",
    "y_test = diabetes[diabetes[\"ind\"].eq(\"test\")][\"diabetes\"]"
   ]
  },
  {
   "cell_type": "markdown",
   "id": "a8209c96",
   "metadata": {},
   "source": [
    "#### Find best number of neighbors (hyperparameter)"
   ]
  },
  {
   "cell_type": "code",
   "execution_count": 12,
   "id": "2a770b8d",
   "metadata": {},
   "outputs": [
    {
     "data": {
      "application/vnd.jupyter.widget-view+json": {
       "model_id": "dd21ea5d776a4ef184a97a8eb232bd48",
       "version_major": 2,
       "version_minor": 0
      },
      "text/plain": [
       "  0%|          | 0/15 [00:00<?, ?it/s]"
      ]
     },
     "metadata": {},
     "output_type": "display_data"
    },
    {
     "data": {
      "image/png": "[encoded data removed]",
      "text/plain": [
       "<Figure size 432x288 with 1 Axes>"
      ]
     },
     "metadata": {
      "needs_background": "light"
     },
     "output_type": "display_data"
    }
   ],
   "source": [
    "from sklearn.neighbors import KNeighborsClassifier\n",
    "\n",
    "training_accuracy = []\n",
    "test_accuracy = []\n",
    "max_neighbors = 15\n",
    "neighbors_range = range(1, max_neighbors + 1) \n",
    "\n",
    "for n_neighbors in tqdm(neighbors_range):\n",
    "    # Build the model\n",
    "    knn = KNeighborsClassifier(n_neighbors=n_neighbors)\n",
    "    knn.fit(X_train.values, y_train)\n",
    "    # Record training set accuracy\n",
    "    training_accuracy.append(knn.score(X_train.values, y_train))\n",
    "    # Record test set accuracy\n",
    "    test_accuracy.append(knn.score(X_test.values, y_test))\n",
    "\n",
    "plt.plot(neighbors_range, training_accuracy, label=\"training accuracy\")\n",
    "plt.plot(neighbors_range, test_accuracy, label=\"test accuracy\")\n",
    "plt.ylabel(\"Accuracy\")\n",
    "plt.xlabel(\"k_neighbors\")\n",
    "plt.legend()\n",
    "plt.savefig('knn_compare_model')"
   ]
  },
  {
   "cell_type": "markdown",
   "id": "137c0476",
   "metadata": {},
   "source": [
    "#### Build the final model"
   ]
  },
  {
   "cell_type": "code",
   "execution_count": 13,
   "id": "e81b9cd3",
   "metadata": {},
   "outputs": [],
   "source": [
    "best_n_neighbors = test_accuracy.index(max(test_accuracy)) + 1"
   ]
  },
  {
   "cell_type": "code",
   "execution_count": 18,
   "id": "5c68be14",
   "metadata": {
    "scrolled": true
   },
   "outputs": [
    {
     "name": "stdout",
     "output_type": "stream",
     "text": [
      "Build model with 11 nearest neighbors\n",
      "Train accuracy: 0.9589\n",
      "Test accuracy: 0.9536\n"
     ]
    }
   ],
   "source": [
    "# Build model\n",
    "print(f'Build model with {best_n_neighbors} nearest neighbors')\n",
    "knn = KNeighborsClassifier(n_neighbors=best_n_neighbors)\n",
    "knn.fit(X_train.values, y_train)\n",
    "\n",
    "# Compute accuracy\n",
    "accuracy = {}\n",
    "accuracy[\"train\"] = knn.score(X_train.values, y_train)\n",
    "accuracy[\"test\"] = knn.score(X_test.values, y_test)\n",
    "print(f'Train accuracy: {accuracy[\"train\"]:.4f}')\n",
    "print(f'Test accuracy: {accuracy[\"test\"]:.4f}')\n",
    "\n",
    "# Predict on test data\n",
    "pred_diabetes_prob = knn.predict_proba(X_test.values)[:,1]\n",
    "y_pred = pred_diabetes_prob > 0.5"
   ]
  },
  {
   "cell_type": "markdown",
   "id": "da6e2688",
   "metadata": {},
   "source": [
    "### Inspect classification result"
   ]
  },
  {
   "cell_type": "code",
   "execution_count": 16,
   "id": "f92a94ef",
   "metadata": {},
   "outputs": [
    {
     "name": "stdout",
     "output_type": "stream",
     "text": [
      "              precision    recall  f1-score   support\n",
      "\n",
      "           0       0.96      0.98      0.97      7220\n",
      "           1       0.94      0.88      0.91      2460\n",
      "\n",
      "    accuracy                           0.95      9680\n",
      "   macro avg       0.95      0.93      0.94      9680\n",
      "weighted avg       0.95      0.95      0.95      9680\n",
      "\n"
     ]
    }
   ],
   "source": [
    "from sklearn.metrics import classification_report\n",
    "print(classification_report(y_test, y_pred))"
   ]
  },
  {
   "cell_type": "code",
   "execution_count": 17,
   "id": "54a54f18",
   "metadata": {},
   "outputs": [
    {
     "data": {
      "image/png": "[encoded data removed]",
      "text/plain": [
       "<Figure size 432x288 with 1 Axes>"
      ]
     },
     "metadata": {
      "needs_background": "light"
     },
     "output_type": "display_data"
    }
   ],
   "source": [
    "from sklearn.metrics import roc_auc_score\n",
    "from sklearn.metrics import roc_curve\n",
    "logit_roc_auc = roc_auc_score(y_test, y_pred)\n",
    "fpr, tpr, thresholds = roc_curve(y_test, pred_diabetes_prob)\n",
    "plt.figure()\n",
    "plt.plot(fpr, tpr, label='K-NN Regression (area = %0.2f)' % logit_roc_auc)\n",
    "plt.plot([0, 1], [0, 1],'r--')\n",
    "plt.xlim([0.0, 1.0])\n",
    "plt.ylim([0.0, 1.05])\n",
    "plt.xlabel('False Positive Rate')\n",
    "plt.ylabel('True Positive Rate')\n",
    "plt.title('Receiver operating characteristic')\n",
    "plt.legend(loc=\"lower right\")\n",
    "plt.show()"
   ]
  }
 ],
 "metadata": {
  "kernelspec": {
   "display_name": "Python 3 (ipykernel)",
   "language": "python",
   "name": "python3"
  },
  "language_info": {
   "codemirror_mode": {
    "name": "ipython",
    "version": 3
   },
   "file_extension": ".py",
   "mimetype": "text/x-python",
   "name": "python",
   "nbconvert_exporter": "python",
   "pygments_lexer": "ipython3",
   "version": "3.9.7"
  }
 },
 "nbformat": 4,
 "nbformat_minor": 5
}
