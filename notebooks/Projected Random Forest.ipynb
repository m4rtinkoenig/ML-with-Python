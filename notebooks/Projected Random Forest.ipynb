{
 "cells": [
  {
   "cell_type": "code",
   "execution_count": 1,
   "id": "5d37b5ac",
   "metadata": {
    "scrolled": true
   },
   "outputs": [
    {
     "name": "stderr",
     "output_type": "stream",
     "text": [
      "Duplicate key in file '/Users/martin/.matplotlib/matplotlibrc', line 2 ('backend: TkAgg')\n"
     ]
    }
   ],
   "source": [
    "import os, sys\n",
    "import numpy as np\n",
    "import pandas as pd\n",
    "from tqdm.notebook import tqdm  # progress meter\n",
    "\n",
    "import matplotlib.pyplot as plt\n",
    "%matplotlib inline\n",
    "\n",
    "os.chdir(os.environ.get(\"PWD\"))  # change working directory to project directory\n",
    "from src.helper.helper_sklearn_plotting import plot_feature_importances\n",
    "from src.helper.helper_mnist_download import get_mnist_dataset"
   ]
  },
  {
   "cell_type": "code",
   "execution_count": 2,
   "id": "82d17b9e",
   "metadata": {
    "scrolled": true
   },
   "outputs": [
    {
     "name": "stdout",
     "output_type": "stream",
     "text": [
      "train-images-idx3-ubyte.gz already exists, load from /Users/martin/dev/ML-with-Python/data/mnist\n",
      "train-labels-idx1-ubyte.gz already exists, load from /Users/martin/dev/ML-with-Python/data/mnist\n",
      "t10k-images-idx3-ubyte.gz already exists, load from /Users/martin/dev/ML-with-Python/data/mnist\n",
      "t10k-labels-idx1-ubyte.gz already exists, load from /Users/martin/dev/ML-with-Python/data/mnist\n"
     ]
    }
   ],
   "source": [
    "data, labels = get_mnist_dataset()"
   ]
  },
  {
   "cell_type": "markdown",
   "id": "5749074b",
   "metadata": {},
   "source": [
    "### Projected Random Forest"
   ]
  },
  {
   "cell_type": "markdown",
   "id": "80d2e382",
   "metadata": {},
   "source": [
    "Let's normalize the data before training the model. We normalize the test data with the feature min and feature max from the training data."
   ]
  },
  {
   "cell_type": "code",
   "execution_count": 3,
   "id": "e8e10dad",
   "metadata": {},
   "outputs": [],
   "source": [
    "# Train data\n",
    "X_train = data[\"train\"].reshape(-1, 784)\n",
    "feature_min, feature_max = X_train.min(axis=0), X_train.max(axis=0)\n",
    "\n",
    "# Test data\n",
    "X_test = data[\"test\"].reshape(-1, 784)\n",
    "\n",
    "# Min-Max-Normalization\n",
    "eps = 1e-12\n",
    "X_train = (X_train - feature_min)/(feature_max - feature_min + eps)\n",
    "X_test = (X_test - feature_min)/(feature_max - feature_min + eps)\n",
    "\n",
    "# Labels\n",
    "y_train = labels[\"train\"]\n",
    "y_test = labels[\"test\"]"
   ]
  },
  {
   "cell_type": "markdown",
   "id": "f1bbf662",
   "metadata": {},
   "source": [
    "In this notebook, we classify the mnist dataset with a randomly projected random forest classifier. That is we project the data with a random projection and then apply the random forest classifier."
   ]
  },
  {
   "cell_type": "code",
   "execution_count": 4,
   "id": "1c222d0e",
   "metadata": {},
   "outputs": [
    {
     "data": {
      "application/vnd.jupyter.widget-view+json": {
       "model_id": "131de6dfa30749dbbfa870065ed4c6b8",
       "version_major": 2,
       "version_minor": 0
      },
      "text/plain": [
       "  0%|          | 0/9 [00:00<?, ?it/s]"
      ]
     },
     "metadata": {},
     "output_type": "display_data"
    },
    {
     "data": {
      "image/png": "[encoded data removed]",
      "text/plain": [
       "<Figure size 432x288 with 1 Axes>"
      ]
     },
     "metadata": {
      "needs_background": "light"
     },
     "output_type": "display_data"
    }
   ],
   "source": [
    "from src.helper.wrapper_random_projection import RandomProjectionWrapper\n",
    "from sklearn.ensemble import RandomForestClassifier\n",
    "\n",
    "training_accuracy = []\n",
    "test_accuracy = []\n",
    "proj_dim_range = [4, 8, 16, 32, 64, 96, 128, 192, 256]\n",
    "\n",
    "for proj_dim in tqdm(proj_dim_range):\n",
    "    # Build the model\n",
    "    random_forest = RandomForestClassifier()\n",
    "    proj_random_forest = RandomProjectionWrapper(random_forest, proj_dim=proj_dim)\n",
    "    proj_random_forest = proj_random_forest.fit(X_train, y_train)\n",
    "    # Record training set accuracy\n",
    "    training_accuracy.append(proj_random_forest.score(X_train, y_train))\n",
    "    # Record test set accuracy\n",
    "    test_accuracy.append(proj_random_forest.score(X_test, y_test))\n",
    "\n",
    "plt.plot(proj_dim_range, training_accuracy, label=\"training accuracy\")\n",
    "plt.plot(proj_dim_range, test_accuracy, label=\"test accuracy\")\n",
    "plt.xticks(proj_dim_range)\n",
    "plt.ylabel(\"Accuracy\")\n",
    "plt.xlabel(\"Number of estimators\")\n",
    "plt.legend()\n",
    "plt.savefig('proj_random_forest_acc_vs_estimators')"
   ]
  },
  {
   "cell_type": "code",
   "execution_count": 7,
   "id": "1c8d3db6",
   "metadata": {},
   "outputs": [],
   "source": [
    "best_proj_dim = 64  # proj_dim_range[test_accuracy.index(max(test_accuracy))]"
   ]
  },
  {
   "cell_type": "code",
   "execution_count": 8,
   "id": "5c68be14",
   "metadata": {
    "scrolled": true
   },
   "outputs": [
    {
     "name": "stdout",
     "output_type": "stream",
     "text": [
      "Build model with projection dimension 64\n",
      "Train accuracy: 1.0000\n",
      "Test accuracy: 0.9090\n"
     ]
    }
   ],
   "source": [
    "# Build the model\n",
    "print(f'Build model with projection dimension {best_proj_dim}')\n",
    "random_forest = RandomForestClassifier()\n",
    "proj_random_forest = RandomProjectionWrapper(random_forest, proj_dim=best_proj_dim)\n",
    "proj_random_forest = proj_random_forest.fit(X_train, y_train)\n",
    "\n",
    "# Predict test and train data\n",
    "accuracy = {}\n",
    "accuracy[\"train\"] = proj_random_forest.score(X_train, y_train)\n",
    "accuracy[\"test\"] = proj_random_forest.score(X_test, y_test)\n",
    "print(f'Train accuracy: {accuracy[\"train\"]:.4f}')\n",
    "print(f'Test accuracy: {accuracy[\"test\"]:.4f}')\n",
    "\n",
    "# Predict test data\n",
    "pred_mnist_prob = proj_random_forest.predict_proba(X_test)\n",
    "y_pred = np.argmax(pred_mnist_prob, axis=1)"
   ]
  },
  {
   "cell_type": "markdown",
   "id": "da6e2688",
   "metadata": {},
   "source": [
    "### Inspect classification result"
   ]
  },
  {
   "cell_type": "code",
   "execution_count": 9,
   "id": "f92a94ef",
   "metadata": {
    "scrolled": true
   },
   "outputs": [
    {
     "name": "stdout",
     "output_type": "stream",
     "text": [
      "              precision    recall  f1-score   support\n",
      "\n",
      "           0       0.93      0.96      0.94       980\n",
      "           1       0.98      0.99      0.98      1135\n",
      "           2       0.91      0.89      0.90      1032\n",
      "           3       0.88      0.89      0.88      1010\n",
      "           4       0.89      0.90      0.90       982\n",
      "           5       0.87      0.89      0.88       892\n",
      "           6       0.93      0.93      0.93       958\n",
      "           7       0.92      0.90      0.91      1028\n",
      "           8       0.88      0.86      0.87       974\n",
      "           9       0.89      0.87      0.88      1009\n",
      "\n",
      "    accuracy                           0.91     10000\n",
      "   macro avg       0.91      0.91      0.91     10000\n",
      "weighted avg       0.91      0.91      0.91     10000\n",
      "\n"
     ]
    }
   ],
   "source": [
    "from sklearn.metrics import classification_report\n",
    "print(classification_report(y_test, y_pred))"
   ]
  },
  {
   "cell_type": "code",
   "execution_count": null,
   "id": "57d6a086",
   "metadata": {},
   "outputs": [],
   "source": []
  }
 ],
 "metadata": {
  "interpreter": {
   "hash": "b9248338e2a9ba20c9955375ee4772f0f40a59965ae36649b9915d66ab3b4f18"
  },
  "kernelspec": {
   "display_name": "Python 3 (ipykernel)",
   "language": "python",
   "name": "python3"
  },
  "language_info": {
   "codemirror_mode": {
    "name": "ipython",
    "version": 3
   },
   "file_extension": ".py",
   "mimetype": "text/x-python",
   "name": "python",
   "nbconvert_exporter": "python",
   "pygments_lexer": "ipython3",
   "version": "3.9.7"
  }
 },
 "nbformat": 4,
 "nbformat_minor": 5
}
