{
 "cells": [
  {
   "cell_type": "code",
   "execution_count": 1,
   "id": "5d37b5ac",
   "metadata": {},
   "outputs": [
    {
     "name": "stderr",
     "output_type": "stream",
     "text": [
      "Duplicate key in file '/Users/martin/.matplotlib/matplotlibrc', line 2 ('backend: TkAgg')\n"
     ]
    }
   ],
   "source": [
    "import os, sys\n",
    "import numpy as np\n",
    "import pandas as pd\n",
    "from tqdm.notebook import tqdm  # progress meter\n",
    "\n",
    "import matplotlib.pyplot as plt\n",
    "%matplotlib inline\n",
    "\n",
    "os.chdir(os.environ.get(\"PWD\"))  # change working directory to project directory"
   ]
  },
  {
   "cell_type": "markdown",
   "id": "5749074b",
   "metadata": {},
   "source": [
    "### Logistic regression"
   ]
  },
  {
   "cell_type": "code",
   "execution_count": 2,
   "id": "d50932f9",
   "metadata": {},
   "outputs": [],
   "source": [
    "diabetes = pd.read_csv('data/diabetes/diabetes_v3.csv')"
   ]
  },
  {
   "cell_type": "code",
   "execution_count": 3,
   "id": "3eb06800",
   "metadata": {},
   "outputs": [],
   "source": [
    "features = [\n",
    "    'cholesterol', \n",
    "    'gluc', \n",
    "    'active',      \n",
    "    'gender',\n",
    "    'age',\n",
    "    'height', \n",
    "    'weight', \n",
    "    'pressure_high',\n",
    "    'pressure_low' \n",
    "]"
   ]
  },
  {
   "cell_type": "markdown",
   "id": "80d2e382",
   "metadata": {},
   "source": [
    "Let's normalize the data before training the model. We normalize the test data with the feature min and feature max from the training data."
   ]
  },
  {
   "cell_type": "code",
   "execution_count": 4,
   "id": "e8e10dad",
   "metadata": {},
   "outputs": [],
   "source": [
    "# Train data\n",
    "X_train = diabetes[diabetes[\"ind\"].eq(\"train\")][features]\n",
    "feature_min, feature_max = X_train.min(), X_train.max()\n",
    "\n",
    "# Test data\n",
    "X_test = diabetes[diabetes[\"ind\"].eq(\"test\")][features]\n",
    "\n",
    "# Min-Max-Normalization\n",
    "X_train = (X_train - feature_min)/(feature_max - feature_min)\n",
    "X_test = (X_test - feature_min)/(feature_max - feature_min)\n",
    "\n",
    "# Labels\n",
    "y_train = diabetes[diabetes[\"ind\"].eq(\"train\")][\"diabetes\"]\n",
    "y_test = diabetes[diabetes[\"ind\"].eq(\"test\")][\"diabetes\"]"
   ]
  },
  {
   "cell_type": "code",
   "execution_count": 5,
   "id": "5c68be14",
   "metadata": {
    "scrolled": true
   },
   "outputs": [
    {
     "name": "stdout",
     "output_type": "stream",
     "text": [
      "Train accuracy: 0.9557\n",
      "Test accuracy: 0.9545\n"
     ]
    }
   ],
   "source": [
    "from sklearn.linear_model import LogisticRegression\n",
    "\n",
    "# Build the model\n",
    "logistic_regression = LogisticRegression()\n",
    "logistic_regression = logistic_regression.fit(X_train, y_train)\n",
    "\n",
    "# Predict test and train data\n",
    "accuracy = {}\n",
    "accuracy[\"train\"] = logistic_regression.score(X_train, y_train)\n",
    "accuracy[\"test\"] = logistic_regression.score(X_test, y_test)\n",
    "print(f'Train accuracy: {accuracy[\"train\"]:.4f}')\n",
    "print(f'Test accuracy: {accuracy[\"test\"]:.4f}')\n",
    "\n",
    "# Predict test data\n",
    "pred_diabetes_prob = logistic_regression.predict_proba(X_test)[:,1]\n",
    "y_pred = pred_diabetes_prob > 0.5"
   ]
  },
  {
   "cell_type": "code",
   "execution_count": 6,
   "id": "882806a2",
   "metadata": {},
   "outputs": [],
   "source": [
    "positive_pred = y_pred == True\n",
    "negative_pred = y_pred == False\n",
    "\n",
    "correct_pred = (y_pred == y_test)\n",
    "incorrect_pred = (y_pred != y_test)"
   ]
  },
  {
   "cell_type": "markdown",
   "id": "da6e2688",
   "metadata": {},
   "source": [
    "### Precision\n",
    "The precision is a metric given by the ratio of correct positive predictions out of all positive predictions. Therefore, it measures the correctness of positive predictions. As incorrect positive predictions are False Alarm, Type I, or False Positive Errors, precision is a measure for Type I Errors, i.e. overestimation.\n",
    "\n",
    "How do Precision and Specificity compare wrt. being a measure of Type I Errors?\n",
    "\n",
    "$$\n",
    "\\text{Precision} = \n",
    "\\frac{\\text{True Positive}}{\\text{True Positive} + \\text{False Positive}}\n",
    "$$\n"
   ]
  },
  {
   "cell_type": "code",
   "execution_count": 7,
   "id": "f92a94ef",
   "metadata": {
    "scrolled": true
   },
   "outputs": [
    {
     "name": "stdout",
     "output_type": "stream",
     "text": [
      "True positives: 2161\n",
      "False positives: 141\n",
      "2161 of 2302 positive predictions correct\n",
      "Precision 0.9387\n"
     ]
    }
   ],
   "source": [
    "true_positive = positive_pred & correct_pred\n",
    "false_positive = positive_pred & incorrect_pred\n",
    "precision = true_positive.sum()/(true_positive.sum() + false_positive.sum())\n",
    "print(f'True positives: {true_positive.sum()}')\n",
    "print(f'False positives: {false_positive.sum()}')\n",
    "print(f'{true_positive.sum()} of {true_positive.sum() + false_positive.sum()} positive predictions correct')\n",
    "print(f'Precision {precision:.4f}')"
   ]
  },
  {
   "cell_type": "markdown",
   "id": "8ea476ba",
   "metadata": {},
   "source": [
    "### Recall (Sensitivity)\n",
    "\n",
    "The recall is a metric given by the ratio of correct positive predictions out of those who have the condition ($y=1$). It measures how well a predictor can detect a condition and can be interpreted as the probability of detection.\n",
    "\n",
    "$$\n",
    "\\text{Recall} = \\frac{\\text{True Positive}}{\\text{True Positive} + \\text{False Negative}}\n",
    "$$"
   ]
  },
  {
   "cell_type": "code",
   "execution_count": 8,
   "id": "6b69b188",
   "metadata": {},
   "outputs": [
    {
     "name": "stdout",
     "output_type": "stream",
     "text": [
      "True positives: 2161 (y=1)\n",
      "False negatives: 299 (y=1)\n",
      "2161 of 2460 positive conditions predicted\n",
      "Recall: 0.8785\n"
     ]
    }
   ],
   "source": [
    "false_negative = negative_pred & incorrect_pred\n",
    "recall = true_positive.sum() / (true_positive.sum() + false_negative.sum())\n",
    "print(f'True positives: {true_positive.sum()} (y=1)')\n",
    "print(f'False negatives: {false_negative.sum()} (y=1)')\n",
    "print(f'{true_positive.sum()} of {true_positive.sum() + false_negative.sum()} positive conditions predicted')\n",
    "print(f'Recall: {recall:.4f}')"
   ]
  },
  {
   "cell_type": "markdown",
   "id": "89a2b856",
   "metadata": {},
   "source": [
    "### Specificity\n",
    "\n",
    "The specificity is a metric given by the ratio of correct negative predictions out of those who dont have the condition (y=0). It measures how well a predictor can reject those who dont have the condition.\n",
    "$$\n",
    "\\text{Sensitivity} = \\frac{\\text{True Negative}}{\\text{True Negative} + \\text{False Positive}}\n",
    "$$"
   ]
  },
  {
   "cell_type": "code",
   "execution_count": 9,
   "id": "84c9ddba",
   "metadata": {},
   "outputs": [
    {
     "name": "stdout",
     "output_type": "stream",
     "text": [
      "True negatives: 7079\n",
      "False positives: 141\n",
      "7079 of 7220 negative conditions predicted\n",
      "Specificity: 0.9805\n"
     ]
    }
   ],
   "source": [
    "true_negative = negative_pred & correct_pred\n",
    "specificity = true_negative.sum() / (true_negative.sum() + false_positive.sum())\n",
    "print(f'True negatives: {true_negative.sum()}')\n",
    "print(f'False positives: {false_positive.sum()}')\n",
    "print(f'{true_negative.sum()} of {true_negative.sum() + false_positive.sum()} negative conditions predicted')\n",
    "print(f'Specificity: {specificity:.4f}')"
   ]
  },
  {
   "cell_type": "code",
   "execution_count": 10,
   "id": "54a54f18",
   "metadata": {},
   "outputs": [
    {
     "data": {
      "image/png": "[encoded data removed]",
      "text/plain": [
       "<Figure size 432x288 with 1 Axes>"
      ]
     },
     "metadata": {
      "needs_background": "light"
     },
     "output_type": "display_data"
    }
   ],
   "source": [
    "from sklearn.metrics import roc_auc_score\n",
    "from sklearn.metrics import roc_curve\n",
    "roc_auc_scores = roc_auc_score(y_test, y_pred)\n",
    "fpr, tpr, thresholds = roc_curve(y_test, pred_diabetes_prob)\n",
    "plt.figure()\n",
    "plt.plot(fpr, tpr, label='Logistic Regression (area = %0.2f)' % roc_auc_scores)\n",
    "plt.plot([0, 1], [0, 1],'r--')\n",
    "plt.xlim([0.0, 1.0])\n",
    "plt.ylim([0.0, 1.05])\n",
    "plt.xlabel('False Positive Rate')\n",
    "plt.ylabel('True Positive Rate')\n",
    "plt.title('Receiver operating characteristic')\n",
    "plt.legend(loc=\"lower right\")\n",
    "plt.savefig('results/outputs/logistic_regression_roc')\n",
    "plt.show()"
   ]
  },
  {
   "cell_type": "code",
   "execution_count": null,
   "id": "94f2ff3f",
   "metadata": {},
   "outputs": [],
   "source": []
  }
 ],
 "metadata": {
  "interpreter": {
   "hash": "b9248338e2a9ba20c9955375ee4772f0f40a59965ae36649b9915d66ab3b4f18"
  },
  "kernelspec": {
   "display_name": "Python 3 (ipykernel)",
   "language": "python",
   "name": "python3"
  },
  "language_info": {
   "codemirror_mode": {
    "name": "ipython",
    "version": 3
   },
   "file_extension": ".py",
   "mimetype": "text/x-python",
   "name": "python",
   "nbconvert_exporter": "python",
   "pygments_lexer": "ipython3",
   "version": "3.9.7"
  }
 },
 "nbformat": 4,
 "nbformat_minor": 5
}
