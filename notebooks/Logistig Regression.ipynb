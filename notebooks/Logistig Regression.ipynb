{
 "cells": [
  {
   "cell_type": "code",
   "execution_count": 1,
   "id": "5d37b5ac",
   "metadata": {},
   "outputs": [
    {
     "name": "stderr",
     "output_type": "stream",
     "text": [
      "Duplicate key in file '/Users/martin/.matplotlib/matplotlibrc', line 2 ('backend: TkAgg')\n"
     ]
    }
   ],
   "source": [
    "import os, sys\n",
    "import numpy as np\n",
    "import pandas as pd\n",
    "from tqdm.notebook import tqdm  # progress meter\n",
    "\n",
    "import matplotlib.pyplot as plt\n",
    "%matplotlib inline\n"
   ]
  },
  {
   "cell_type": "code",
   "execution_count": 2,
   "id": "82d17b9e",
   "metadata": {},
   "outputs": [
    {
     "name": "stdout",
     "output_type": "stream",
     "text": [
      "id\n",
      "cholesterol\n",
      "gluc\n",
      "smoke\n",
      "alco\n",
      "active\n",
      "diabetes\n",
      "age\n",
      "height\n",
      "weight\n",
      "gender\n",
      "ind\n",
      "pressure_high\n",
      "pressure_low\n"
     ]
    }
   ],
   "source": [
    "diabetes = pd.read_csv('data/diabetes_v3.csv')\n",
    "print(\"\\n\".join([*diabetes.columns]))"
   ]
  },
  {
   "cell_type": "code",
   "execution_count": 3,
   "id": "bd74891a",
   "metadata": {},
   "outputs": [
    {
     "data": {
      "text/html": [
       "<div>\n",
       "<style scoped>\n",
       "    .dataframe tbody tr th:only-of-type {\n",
       "        vertical-align: middle;\n",
       "    }\n",
       "\n",
       "    .dataframe tbody tr th {\n",
       "        vertical-align: top;\n",
       "    }\n",
       "\n",
       "    .dataframe thead th {\n",
       "        text-align: right;\n",
       "    }\n",
       "</style>\n",
       "<table border=\"1\" class=\"dataframe\">\n",
       "  <thead>\n",
       "    <tr style=\"text-align: right;\">\n",
       "      <th></th>\n",
       "      <th>id</th>\n",
       "      <th>cholesterol</th>\n",
       "      <th>gluc</th>\n",
       "      <th>smoke</th>\n",
       "      <th>alco</th>\n",
       "      <th>active</th>\n",
       "      <th>diabetes</th>\n",
       "      <th>age</th>\n",
       "      <th>height</th>\n",
       "      <th>weight</th>\n",
       "      <th>gender</th>\n",
       "      <th>ind</th>\n",
       "      <th>pressure_high</th>\n",
       "      <th>pressure_low</th>\n",
       "    </tr>\n",
       "  </thead>\n",
       "  <tbody>\n",
       "    <tr>\n",
       "      <th>0</th>\n",
       "      <td>62538</td>\n",
       "      <td>0</td>\n",
       "      <td>0</td>\n",
       "      <td>0</td>\n",
       "      <td>0</td>\n",
       "      <td>1</td>\n",
       "      <td>0</td>\n",
       "      <td>54.0000</td>\n",
       "      <td>169.0000</td>\n",
       "      <td>76.0000</td>\n",
       "      <td>1</td>\n",
       "      <td>train</td>\n",
       "      <td>100.0000</td>\n",
       "      <td>80.0000</td>\n",
       "    </tr>\n",
       "    <tr>\n",
       "      <th>1</th>\n",
       "      <td>49159</td>\n",
       "      <td>0</td>\n",
       "      <td>0</td>\n",
       "      <td>0</td>\n",
       "      <td>0</td>\n",
       "      <td>1</td>\n",
       "      <td>0</td>\n",
       "      <td>49.0000</td>\n",
       "      <td>165.0000</td>\n",
       "      <td>65.0000</td>\n",
       "      <td>0</td>\n",
       "      <td>train</td>\n",
       "      <td>120.0000</td>\n",
       "      <td>82.0000</td>\n",
       "    </tr>\n",
       "    <tr>\n",
       "      <th>2</th>\n",
       "      <td>60683</td>\n",
       "      <td>0</td>\n",
       "      <td>0</td>\n",
       "      <td>0</td>\n",
       "      <td>0</td>\n",
       "      <td>1</td>\n",
       "      <td>0</td>\n",
       "      <td>60.1699</td>\n",
       "      <td>170.0000</td>\n",
       "      <td>56.0000</td>\n",
       "      <td>0</td>\n",
       "      <td>train</td>\n",
       "      <td>120.0000</td>\n",
       "      <td>80.0000</td>\n",
       "    </tr>\n",
       "    <tr>\n",
       "      <th>3</th>\n",
       "      <td>42924</td>\n",
       "      <td>0</td>\n",
       "      <td>0</td>\n",
       "      <td>0</td>\n",
       "      <td>0</td>\n",
       "      <td>0</td>\n",
       "      <td>0</td>\n",
       "      <td>55.5808</td>\n",
       "      <td>169.0000</td>\n",
       "      <td>62.0000</td>\n",
       "      <td>0</td>\n",
       "      <td>train</td>\n",
       "      <td>120.0000</td>\n",
       "      <td>80.0000</td>\n",
       "    </tr>\n",
       "    <tr>\n",
       "      <th>4</th>\n",
       "      <td>52888</td>\n",
       "      <td>0</td>\n",
       "      <td>0</td>\n",
       "      <td>0</td>\n",
       "      <td>0</td>\n",
       "      <td>0</td>\n",
       "      <td>0</td>\n",
       "      <td>44.3890</td>\n",
       "      <td>166.0000</td>\n",
       "      <td>67.0000</td>\n",
       "      <td>0</td>\n",
       "      <td>train</td>\n",
       "      <td>120.0000</td>\n",
       "      <td>80.0000</td>\n",
       "    </tr>\n",
       "  </tbody>\n",
       "</table>\n",
       "</div>"
      ],
      "text/plain": [
       "      id  cholesterol  gluc  smoke  alco  active  diabetes     age   height  \\\n",
       "0  62538            0     0      0     0       1         0 54.0000 169.0000   \n",
       "1  49159            0     0      0     0       1         0 49.0000 165.0000   \n",
       "2  60683            0     0      0     0       1         0 60.1699 170.0000   \n",
       "3  42924            0     0      0     0       0         0 55.5808 169.0000   \n",
       "4  52888            0     0      0     0       0         0 44.3890 166.0000   \n",
       "\n",
       "   weight  gender    ind  pressure_high  pressure_low  \n",
       "0 76.0000       1  train       100.0000       80.0000  \n",
       "1 65.0000       0  train       120.0000       82.0000  \n",
       "2 56.0000       0  train       120.0000       80.0000  \n",
       "3 62.0000       0  train       120.0000       80.0000  \n",
       "4 67.0000       0  train       120.0000       80.0000  "
      ]
     },
     "execution_count": 3,
     "metadata": {},
     "output_type": "execute_result"
    }
   ],
   "source": [
    "pd.set_option('display.float_format', lambda x: '%.4f' % x)\n",
    "diabetes.head()"
   ]
  },
  {
   "cell_type": "code",
   "execution_count": 4,
   "id": "9c719bce",
   "metadata": {},
   "outputs": [
    {
     "data": {
      "text/html": [
       "<div>\n",
       "<style scoped>\n",
       "    .dataframe tbody tr th:only-of-type {\n",
       "        vertical-align: middle;\n",
       "    }\n",
       "\n",
       "    .dataframe tbody tr th {\n",
       "        vertical-align: top;\n",
       "    }\n",
       "\n",
       "    .dataframe thead th {\n",
       "        text-align: right;\n",
       "    }\n",
       "</style>\n",
       "<table border=\"1\" class=\"dataframe\">\n",
       "  <thead>\n",
       "    <tr style=\"text-align: right;\">\n",
       "      <th></th>\n",
       "      <th>id</th>\n",
       "      <th>cholesterol</th>\n",
       "      <th>gluc</th>\n",
       "      <th>smoke</th>\n",
       "      <th>alco</th>\n",
       "      <th>active</th>\n",
       "      <th>diabetes</th>\n",
       "      <th>age</th>\n",
       "      <th>height</th>\n",
       "      <th>weight</th>\n",
       "      <th>gender</th>\n",
       "      <th>pressure_high</th>\n",
       "      <th>pressure_low</th>\n",
       "    </tr>\n",
       "  </thead>\n",
       "  <tbody>\n",
       "    <tr>\n",
       "      <th>mean</th>\n",
       "      <td>49973.4686</td>\n",
       "      <td>0.3680</td>\n",
       "      <td>0.2273</td>\n",
       "      <td>0.0879</td>\n",
       "      <td>0.0539</td>\n",
       "      <td>0.8033</td>\n",
       "      <td>0.2508</td>\n",
       "      <td>53.1829</td>\n",
       "      <td>164.3236</td>\n",
       "      <td>74.1938</td>\n",
       "      <td>0.3480</td>\n",
       "      <td>128.5207</td>\n",
       "      <td>96.8267</td>\n",
       "    </tr>\n",
       "    <tr>\n",
       "      <th>std</th>\n",
       "      <td>28845.5238</td>\n",
       "      <td>0.6812</td>\n",
       "      <td>0.5733</td>\n",
       "      <td>0.2832</td>\n",
       "      <td>0.2258</td>\n",
       "      <td>0.3975</td>\n",
       "      <td>0.4335</td>\n",
       "      <td>6.7691</td>\n",
       "      <td>8.2107</td>\n",
       "      <td>14.6389</td>\n",
       "      <td>0.4763</td>\n",
       "      <td>138.6072</td>\n",
       "      <td>190.8739</td>\n",
       "    </tr>\n",
       "    <tr>\n",
       "      <th>min</th>\n",
       "      <td>0.0000</td>\n",
       "      <td>0.0000</td>\n",
       "      <td>0.0000</td>\n",
       "      <td>0.0000</td>\n",
       "      <td>0.0000</td>\n",
       "      <td>0.0000</td>\n",
       "      <td>0.0000</td>\n",
       "      <td>29.5836</td>\n",
       "      <td>55.0000</td>\n",
       "      <td>10.0000</td>\n",
       "      <td>0.0000</td>\n",
       "      <td>1.0000</td>\n",
       "      <td>0.0000</td>\n",
       "    </tr>\n",
       "    <tr>\n",
       "      <th>25%</th>\n",
       "      <td>25027.2500</td>\n",
       "      <td>0.0000</td>\n",
       "      <td>0.0000</td>\n",
       "      <td>0.0000</td>\n",
       "      <td>0.0000</td>\n",
       "      <td>1.0000</td>\n",
       "      <td>0.0000</td>\n",
       "      <td>48.2856</td>\n",
       "      <td>159.0000</td>\n",
       "      <td>64.0000</td>\n",
       "      <td>0.0000</td>\n",
       "      <td>120.0000</td>\n",
       "      <td>80.0000</td>\n",
       "    </tr>\n",
       "    <tr>\n",
       "      <th>50%</th>\n",
       "      <td>50004.5000</td>\n",
       "      <td>0.0000</td>\n",
       "      <td>0.0000</td>\n",
       "      <td>0.0000</td>\n",
       "      <td>0.0000</td>\n",
       "      <td>1.0000</td>\n",
       "      <td>0.0000</td>\n",
       "      <td>53.9644</td>\n",
       "      <td>165.0000</td>\n",
       "      <td>71.0000</td>\n",
       "      <td>0.0000</td>\n",
       "      <td>120.0000</td>\n",
       "      <td>80.0000</td>\n",
       "    </tr>\n",
       "    <tr>\n",
       "      <th>75%</th>\n",
       "      <td>74876.7500</td>\n",
       "      <td>1.0000</td>\n",
       "      <td>0.0000</td>\n",
       "      <td>0.0000</td>\n",
       "      <td>0.0000</td>\n",
       "      <td>1.0000</td>\n",
       "      <td>1.0000</td>\n",
       "      <td>58.3342</td>\n",
       "      <td>170.0000</td>\n",
       "      <td>82.0000</td>\n",
       "      <td>1.0000</td>\n",
       "      <td>140.0000</td>\n",
       "      <td>90.0000</td>\n",
       "    </tr>\n",
       "    <tr>\n",
       "      <th>max</th>\n",
       "      <td>99999.0000</td>\n",
       "      <td>2.0000</td>\n",
       "      <td>2.0000</td>\n",
       "      <td>1.0000</td>\n",
       "      <td>1.0000</td>\n",
       "      <td>1.0000</td>\n",
       "      <td>1.0000</td>\n",
       "      <td>64.9342</td>\n",
       "      <td>250.0000</td>\n",
       "      <td>200.0000</td>\n",
       "      <td>1.0000</td>\n",
       "      <td>16020.0000</td>\n",
       "      <td>11000.0000</td>\n",
       "    </tr>\n",
       "  </tbody>\n",
       "</table>\n",
       "</div>"
      ],
      "text/plain": [
       "             id  cholesterol   gluc  smoke   alco  active  diabetes     age  \\\n",
       "mean 49973.4686       0.3680 0.2273 0.0879 0.0539  0.8033    0.2508 53.1829   \n",
       "std  28845.5238       0.6812 0.5733 0.2832 0.2258  0.3975    0.4335  6.7691   \n",
       "min      0.0000       0.0000 0.0000 0.0000 0.0000  0.0000    0.0000 29.5836   \n",
       "25%  25027.2500       0.0000 0.0000 0.0000 0.0000  1.0000    0.0000 48.2856   \n",
       "50%  50004.5000       0.0000 0.0000 0.0000 0.0000  1.0000    0.0000 53.9644   \n",
       "75%  74876.7500       1.0000 0.0000 0.0000 0.0000  1.0000    1.0000 58.3342   \n",
       "max  99999.0000       2.0000 2.0000 1.0000 1.0000  1.0000    1.0000 64.9342   \n",
       "\n",
       "       height   weight  gender  pressure_high  pressure_low  \n",
       "mean 164.3236  74.1938  0.3480       128.5207       96.8267  \n",
       "std    8.2107  14.6389  0.4763       138.6072      190.8739  \n",
       "min   55.0000  10.0000  0.0000         1.0000        0.0000  \n",
       "25%  159.0000  64.0000  0.0000       120.0000       80.0000  \n",
       "50%  165.0000  71.0000  0.0000       120.0000       80.0000  \n",
       "75%  170.0000  82.0000  1.0000       140.0000       90.0000  \n",
       "max  250.0000 200.0000  1.0000     16020.0000    11000.0000  "
      ]
     },
     "execution_count": 4,
     "metadata": {},
     "output_type": "execute_result"
    }
   ],
   "source": [
    "diabetes.describe().drop(\"count\")"
   ]
  },
  {
   "cell_type": "code",
   "execution_count": 5,
   "id": "683d842c",
   "metadata": {},
   "outputs": [
    {
     "name": "stdout",
     "output_type": "stream",
     "text": [
      "(67682, 14)\n"
     ]
    }
   ],
   "source": [
    "print(f\"{diabetes.shape}\")"
   ]
  },
  {
   "cell_type": "code",
   "execution_count": 6,
   "id": "429dff77",
   "metadata": {},
   "outputs": [
    {
     "name": "stdout",
     "output_type": "stream",
     "text": [
      "diabetes\n",
      "0    50706\n",
      "1    16976\n",
      "dtype: int64\n"
     ]
    }
   ],
   "source": [
    "print(diabetes.groupby('diabetes').size())"
   ]
  },
  {
   "cell_type": "code",
   "execution_count": 7,
   "id": "2af49763",
   "metadata": {},
   "outputs": [
    {
     "data": {
      "text/plain": [
       "<AxesSubplot:xlabel='diabetes', ylabel='count'>"
      ]
     },
     "execution_count": 7,
     "metadata": {},
     "output_type": "execute_result"
    },
    {
     "data": {
      "image/png": "[encoded data removed]",
      "text/plain": [
       "<Figure size 432x288 with 1 Axes>"
      ]
     },
     "metadata": {
      "needs_background": "light"
     },
     "output_type": "display_data"
    }
   ],
   "source": [
    "from seaborn import countplot\n",
    "countplot(x=\"diabetes\", data=diabetes, label=\"Count\")"
   ]
  },
  {
   "cell_type": "code",
   "execution_count": 8,
   "id": "2a919b23",
   "metadata": {},
   "outputs": [
    {
     "data": {
      "text/plain": [
       "<seaborn.axisgrid.FacetGrid at 0x12f814400>"
      ]
     },
     "execution_count": 8,
     "metadata": {},
     "output_type": "execute_result"
    },
    {
     "data": {
      "image/png": "[encoded data removed]",
      "text/plain": [
       "<Figure size 360x360 with 1 Axes>"
      ]
     },
     "metadata": {
      "needs_background": "light"
     },
     "output_type": "display_data"
    }
   ],
   "source": [
    "from seaborn import catplot\n",
    "catplot(\n",
    "    x=\"diabetes\",\n",
    "    y=\"cholesterol\",\n",
    "    data=diabetes,\n",
    "    kind=\"violin\"\n",
    ")"
   ]
  },
  {
   "cell_type": "code",
   "execution_count": 9,
   "id": "081670a7",
   "metadata": {},
   "outputs": [
    {
     "data": {
      "text/plain": [
       "<seaborn.axisgrid.FacetGrid at 0x12f91afa0>"
      ]
     },
     "execution_count": 9,
     "metadata": {},
     "output_type": "execute_result"
    },
    {
     "data": {
      "image/png": "[encoded data removed]",
      "text/plain": [
       "<Figure size 360x360 with 1 Axes>"
      ]
     },
     "metadata": {
      "needs_background": "light"
     },
     "output_type": "display_data"
    }
   ],
   "source": [
    "from seaborn import catplot\n",
    "catplot(\n",
    "    x=\"diabetes\",\n",
    "    y=\"age\",\n",
    "    data=diabetes,\n",
    "    kind=\"violin\"\n",
    ")"
   ]
  },
  {
   "cell_type": "code",
   "execution_count": 10,
   "id": "c6119cba",
   "metadata": {},
   "outputs": [
    {
     "data": {
      "text/plain": [
       "<seaborn.axisgrid.FacetGrid at 0x10ea2db80>"
      ]
     },
     "execution_count": 10,
     "metadata": {},
     "output_type": "execute_result"
    },
    {
     "data": {
      "image/png": "[encoded data removed]",
      "text/plain": [
       "<Figure size 422.875x360 with 1 Axes>"
      ]
     },
     "metadata": {
      "needs_background": "light"
     },
     "output_type": "display_data"
    }
   ],
   "source": [
    "from seaborn import catplot\n",
    "catplot(\n",
    "    x=\"diabetes\",\n",
    "    y=\"age\",\n",
    "    hue=\"cholesterol\", \n",
    "    #col=\"diabetes\",\n",
    "    data=diabetes,\n",
    "    kind=\"violin\"\n",
    ")"
   ]
  },
  {
   "cell_type": "code",
   "execution_count": 11,
   "id": "a34b2a50",
   "metadata": {},
   "outputs": [
    {
     "data": {
      "text/html": [
       "<div>\n",
       "<style scoped>\n",
       "    .dataframe tbody tr th:only-of-type {\n",
       "        vertical-align: middle;\n",
       "    }\n",
       "\n",
       "    .dataframe tbody tr th {\n",
       "        vertical-align: top;\n",
       "    }\n",
       "\n",
       "    .dataframe thead th {\n",
       "        text-align: right;\n",
       "    }\n",
       "</style>\n",
       "<table border=\"1\" class=\"dataframe\">\n",
       "  <thead>\n",
       "    <tr style=\"text-align: right;\">\n",
       "      <th></th>\n",
       "      <th>min</th>\n",
       "      <th>max</th>\n",
       "    </tr>\n",
       "  </thead>\n",
       "  <tbody>\n",
       "    <tr>\n",
       "      <th>id</th>\n",
       "      <td>0.0000</td>\n",
       "      <td>99999.0000</td>\n",
       "    </tr>\n",
       "    <tr>\n",
       "      <th>cholesterol</th>\n",
       "      <td>0.0000</td>\n",
       "      <td>2.0000</td>\n",
       "    </tr>\n",
       "    <tr>\n",
       "      <th>gluc</th>\n",
       "      <td>0.0000</td>\n",
       "      <td>2.0000</td>\n",
       "    </tr>\n",
       "    <tr>\n",
       "      <th>smoke</th>\n",
       "      <td>0.0000</td>\n",
       "      <td>1.0000</td>\n",
       "    </tr>\n",
       "    <tr>\n",
       "      <th>alco</th>\n",
       "      <td>0.0000</td>\n",
       "      <td>1.0000</td>\n",
       "    </tr>\n",
       "    <tr>\n",
       "      <th>active</th>\n",
       "      <td>0.0000</td>\n",
       "      <td>1.0000</td>\n",
       "    </tr>\n",
       "    <tr>\n",
       "      <th>diabetes</th>\n",
       "      <td>0.0000</td>\n",
       "      <td>1.0000</td>\n",
       "    </tr>\n",
       "    <tr>\n",
       "      <th>age</th>\n",
       "      <td>29.5836</td>\n",
       "      <td>64.9342</td>\n",
       "    </tr>\n",
       "    <tr>\n",
       "      <th>height</th>\n",
       "      <td>55.0000</td>\n",
       "      <td>250.0000</td>\n",
       "    </tr>\n",
       "    <tr>\n",
       "      <th>weight</th>\n",
       "      <td>10.0000</td>\n",
       "      <td>200.0000</td>\n",
       "    </tr>\n",
       "    <tr>\n",
       "      <th>gender</th>\n",
       "      <td>0.0000</td>\n",
       "      <td>1.0000</td>\n",
       "    </tr>\n",
       "    <tr>\n",
       "      <th>pressure_high</th>\n",
       "      <td>1.0000</td>\n",
       "      <td>16020.0000</td>\n",
       "    </tr>\n",
       "    <tr>\n",
       "      <th>pressure_low</th>\n",
       "      <td>0.0000</td>\n",
       "      <td>11000.0000</td>\n",
       "    </tr>\n",
       "  </tbody>\n",
       "</table>\n",
       "</div>"
      ],
      "text/plain": [
       "                  min        max\n",
       "id             0.0000 99999.0000\n",
       "cholesterol    0.0000     2.0000\n",
       "gluc           0.0000     2.0000\n",
       "smoke          0.0000     1.0000\n",
       "alco           0.0000     1.0000\n",
       "active         0.0000     1.0000\n",
       "diabetes       0.0000     1.0000\n",
       "age           29.5836    64.9342\n",
       "height        55.0000   250.0000\n",
       "weight        10.0000   200.0000\n",
       "gender         0.0000     1.0000\n",
       "pressure_high  1.0000 16020.0000\n",
       "pressure_low   0.0000 11000.0000"
      ]
     },
     "execution_count": 11,
     "metadata": {},
     "output_type": "execute_result"
    }
   ],
   "source": [
    "diabetes.describe().T[[\"min\", \"max\"]]"
   ]
  },
  {
   "cell_type": "markdown",
   "id": "d20e6c33",
   "metadata": {},
   "source": [
    "The values of pressure_high, pressure_low, and height seem to exhibit outliers. Let's see what we can do..."
   ]
  },
  {
   "cell_type": "markdown",
   "id": "3ac27269",
   "metadata": {},
   "source": [
    "## Detect and remove outliers "
   ]
  },
  {
   "cell_type": "markdown",
   "id": "c1690ac3",
   "metadata": {},
   "source": [
    "Value for blood pressure below 10 and above 500 are clearly wrong. \n",
    "The values for height below 100cm seem also false. \n",
    "They should be removed before calculating any Z-score or any other outlier statistic."
   ]
  },
  {
   "cell_type": "code",
   "execution_count": 12,
   "id": "933ebae0",
   "metadata": {},
   "outputs": [],
   "source": [
    "diabetes_cleaned = diabetes[diabetes.pressure_low > 10]\n",
    "diabetes_cleaned = diabetes_cleaned[diabetes_cleaned.pressure_low < 500]\n",
    "diabetes_cleaned = diabetes_cleaned[diabetes_cleaned.pressure_high > 20]\n",
    "diabetes_cleaned = diabetes_cleaned[diabetes_cleaned.pressure_high < 500]\n",
    "diabetes_cleaned = diabetes_cleaned[diabetes_cleaned.height > 100]"
   ]
  },
  {
   "cell_type": "code",
   "execution_count": 13,
   "id": "c90ab84d",
   "metadata": {},
   "outputs": [
    {
     "data": {
      "text/html": [
       "<div>\n",
       "<style scoped>\n",
       "    .dataframe tbody tr th:only-of-type {\n",
       "        vertical-align: middle;\n",
       "    }\n",
       "\n",
       "    .dataframe tbody tr th {\n",
       "        vertical-align: top;\n",
       "    }\n",
       "\n",
       "    .dataframe thead th {\n",
       "        text-align: right;\n",
       "    }\n",
       "</style>\n",
       "<table border=\"1\" class=\"dataframe\">\n",
       "  <thead>\n",
       "    <tr style=\"text-align: right;\">\n",
       "      <th></th>\n",
       "      <th>id</th>\n",
       "      <th>cholesterol</th>\n",
       "      <th>gluc</th>\n",
       "      <th>smoke</th>\n",
       "      <th>alco</th>\n",
       "      <th>active</th>\n",
       "      <th>diabetes</th>\n",
       "      <th>age</th>\n",
       "      <th>height</th>\n",
       "      <th>weight</th>\n",
       "      <th>gender</th>\n",
       "      <th>ind</th>\n",
       "      <th>pressure_high</th>\n",
       "      <th>pressure_low</th>\n",
       "    </tr>\n",
       "  </thead>\n",
       "  <tbody>\n",
       "    <tr>\n",
       "      <th>11280</th>\n",
       "      <td>54282</td>\n",
       "      <td>1</td>\n",
       "      <td>1</td>\n",
       "      <td>0</td>\n",
       "      <td>0</td>\n",
       "      <td>1</td>\n",
       "      <td>1</td>\n",
       "      <td>59.6438</td>\n",
       "      <td>161.0000</td>\n",
       "      <td>84.0000</td>\n",
       "      <td>0</td>\n",
       "      <td>train</td>\n",
       "      <td>196.0000</td>\n",
       "      <td>182.0000</td>\n",
       "    </tr>\n",
       "    <tr>\n",
       "      <th>14408</th>\n",
       "      <td>68825</td>\n",
       "      <td>2</td>\n",
       "      <td>2</td>\n",
       "      <td>0</td>\n",
       "      <td>1</td>\n",
       "      <td>1</td>\n",
       "      <td>1</td>\n",
       "      <td>52.4274</td>\n",
       "      <td>164.0000</td>\n",
       "      <td>98.0000</td>\n",
       "      <td>0</td>\n",
       "      <td>train</td>\n",
       "      <td>95.0000</td>\n",
       "      <td>180.0000</td>\n",
       "    </tr>\n",
       "    <tr>\n",
       "      <th>20319</th>\n",
       "      <td>28449</td>\n",
       "      <td>0</td>\n",
       "      <td>0</td>\n",
       "      <td>0</td>\n",
       "      <td>0</td>\n",
       "      <td>0</td>\n",
       "      <td>1</td>\n",
       "      <td>62.5123</td>\n",
       "      <td>160.0000</td>\n",
       "      <td>88.0000</td>\n",
       "      <td>0</td>\n",
       "      <td>train</td>\n",
       "      <td>150.0000</td>\n",
       "      <td>180.0000</td>\n",
       "    </tr>\n",
       "    <tr>\n",
       "      <th>21022</th>\n",
       "      <td>9223</td>\n",
       "      <td>2</td>\n",
       "      <td>0</td>\n",
       "      <td>0</td>\n",
       "      <td>0</td>\n",
       "      <td>1</td>\n",
       "      <td>1</td>\n",
       "      <td>58.1370</td>\n",
       "      <td>250.0000</td>\n",
       "      <td>86.0000</td>\n",
       "      <td>0</td>\n",
       "      <td>train</td>\n",
       "      <td>140.0000</td>\n",
       "      <td>100.0000</td>\n",
       "    </tr>\n",
       "    <tr>\n",
       "      <th>21476</th>\n",
       "      <td>58349</td>\n",
       "      <td>0</td>\n",
       "      <td>2</td>\n",
       "      <td>0</td>\n",
       "      <td>0</td>\n",
       "      <td>1</td>\n",
       "      <td>1</td>\n",
       "      <td>54.2630</td>\n",
       "      <td>162.0000</td>\n",
       "      <td>67.0000</td>\n",
       "      <td>0</td>\n",
       "      <td>train</td>\n",
       "      <td>401.0000</td>\n",
       "      <td>80.0000</td>\n",
       "    </tr>\n",
       "    <tr>\n",
       "      <th>30259</th>\n",
       "      <td>53070</td>\n",
       "      <td>0</td>\n",
       "      <td>0</td>\n",
       "      <td>0</td>\n",
       "      <td>0</td>\n",
       "      <td>0</td>\n",
       "      <td>1</td>\n",
       "      <td>51.4630</td>\n",
       "      <td>175.0000</td>\n",
       "      <td>75.0000</td>\n",
       "      <td>1</td>\n",
       "      <td>train</td>\n",
       "      <td>150.0000</td>\n",
       "      <td>180.0000</td>\n",
       "    </tr>\n",
       "    <tr>\n",
       "      <th>32677</th>\n",
       "      <td>70400</td>\n",
       "      <td>1</td>\n",
       "      <td>1</td>\n",
       "      <td>0</td>\n",
       "      <td>1</td>\n",
       "      <td>1</td>\n",
       "      <td>1</td>\n",
       "      <td>60.3973</td>\n",
       "      <td>157.0000</td>\n",
       "      <td>86.0000</td>\n",
       "      <td>0</td>\n",
       "      <td>train</td>\n",
       "      <td>170.0000</td>\n",
       "      <td>190.0000</td>\n",
       "    </tr>\n",
       "    <tr>\n",
       "      <th>47553</th>\n",
       "      <td>62861</td>\n",
       "      <td>0</td>\n",
       "      <td>0</td>\n",
       "      <td>0</td>\n",
       "      <td>0</td>\n",
       "      <td>0</td>\n",
       "      <td>1</td>\n",
       "      <td>62.0603</td>\n",
       "      <td>163.0000</td>\n",
       "      <td>70.0000</td>\n",
       "      <td>1</td>\n",
       "      <td>train</td>\n",
       "      <td>200.0000</td>\n",
       "      <td>180.0000</td>\n",
       "    </tr>\n",
       "    <tr>\n",
       "      <th>65570</th>\n",
       "      <td>91264</td>\n",
       "      <td>0</td>\n",
       "      <td>0</td>\n",
       "      <td>0</td>\n",
       "      <td>0</td>\n",
       "      <td>1</td>\n",
       "      <td>1</td>\n",
       "      <td>44.0000</td>\n",
       "      <td>164.0000</td>\n",
       "      <td>69.0000</td>\n",
       "      <td>0</td>\n",
       "      <td>test</td>\n",
       "      <td>130.0000</td>\n",
       "      <td>190.0000</td>\n",
       "    </tr>\n",
       "  </tbody>\n",
       "</table>\n",
       "</div>"
      ],
      "text/plain": [
       "          id  cholesterol  gluc  smoke  alco  active  diabetes     age  \\\n",
       "11280  54282            1     1      0     0       1         1 59.6438   \n",
       "14408  68825            2     2      0     1       1         1 52.4274   \n",
       "20319  28449            0     0      0     0       0         1 62.5123   \n",
       "21022   9223            2     0      0     0       1         1 58.1370   \n",
       "21476  58349            0     2      0     0       1         1 54.2630   \n",
       "30259  53070            0     0      0     0       0         1 51.4630   \n",
       "32677  70400            1     1      0     1       1         1 60.3973   \n",
       "47553  62861            0     0      0     0       0         1 62.0603   \n",
       "65570  91264            0     0      0     0       1         1 44.0000   \n",
       "\n",
       "        height  weight  gender    ind  pressure_high  pressure_low  \n",
       "11280 161.0000 84.0000       0  train       196.0000      182.0000  \n",
       "14408 164.0000 98.0000       0  train        95.0000      180.0000  \n",
       "20319 160.0000 88.0000       0  train       150.0000      180.0000  \n",
       "21022 250.0000 86.0000       0  train       140.0000      100.0000  \n",
       "21476 162.0000 67.0000       0  train       401.0000       80.0000  \n",
       "30259 175.0000 75.0000       1  train       150.0000      180.0000  \n",
       "32677 157.0000 86.0000       0  train       170.0000      190.0000  \n",
       "47553 163.0000 70.0000       1  train       200.0000      180.0000  \n",
       "65570 164.0000 69.0000       0   test       130.0000      190.0000  "
      ]
     },
     "execution_count": 13,
     "metadata": {},
     "output_type": "execute_result"
    }
   ],
   "source": [
    "from scipy import stats\n",
    "thres = 2.326 * 4  # 99% quantile of zscore is 2.326\n",
    "z_score = stats.zscore(diabetes_cleaned.drop(['id', 'ind', 'diabetes'], axis=1))\n",
    "'''\n",
    "Outliers are observations (rows) that have\n",
    "an abnormal z_score (negative or positive) \n",
    "in at least one feature.\n",
    "'''\n",
    "\n",
    "outlier = (np.abs(z_score) >= thres).any(axis=1)\n",
    "diabetes_cleaned[outlier]  # these will be removed"
   ]
  },
  {
   "cell_type": "code",
   "execution_count": 14,
   "id": "1904b4fe",
   "metadata": {},
   "outputs": [
    {
     "data": {
      "text/html": [
       "<div>\n",
       "<style scoped>\n",
       "    .dataframe tbody tr th:only-of-type {\n",
       "        vertical-align: middle;\n",
       "    }\n",
       "\n",
       "    .dataframe tbody tr th {\n",
       "        vertical-align: top;\n",
       "    }\n",
       "\n",
       "    .dataframe thead th {\n",
       "        text-align: right;\n",
       "    }\n",
       "</style>\n",
       "<table border=\"1\" class=\"dataframe\">\n",
       "  <thead>\n",
       "    <tr style=\"text-align: right;\">\n",
       "      <th></th>\n",
       "      <th>min</th>\n",
       "      <th>max</th>\n",
       "    </tr>\n",
       "  </thead>\n",
       "  <tbody>\n",
       "    <tr>\n",
       "      <th>id</th>\n",
       "      <td>0.0000</td>\n",
       "      <td>99999.0000</td>\n",
       "    </tr>\n",
       "    <tr>\n",
       "      <th>cholesterol</th>\n",
       "      <td>0.0000</td>\n",
       "      <td>2.0000</td>\n",
       "    </tr>\n",
       "    <tr>\n",
       "      <th>gluc</th>\n",
       "      <td>0.0000</td>\n",
       "      <td>2.0000</td>\n",
       "    </tr>\n",
       "    <tr>\n",
       "      <th>smoke</th>\n",
       "      <td>0.0000</td>\n",
       "      <td>1.0000</td>\n",
       "    </tr>\n",
       "    <tr>\n",
       "      <th>alco</th>\n",
       "      <td>0.0000</td>\n",
       "      <td>1.0000</td>\n",
       "    </tr>\n",
       "    <tr>\n",
       "      <th>active</th>\n",
       "      <td>0.0000</td>\n",
       "      <td>1.0000</td>\n",
       "    </tr>\n",
       "    <tr>\n",
       "      <th>diabetes</th>\n",
       "      <td>0.0000</td>\n",
       "      <td>1.0000</td>\n",
       "    </tr>\n",
       "    <tr>\n",
       "      <th>age</th>\n",
       "      <td>29.5836</td>\n",
       "      <td>64.9342</td>\n",
       "    </tr>\n",
       "    <tr>\n",
       "      <th>height</th>\n",
       "      <td>104.0000</td>\n",
       "      <td>207.0000</td>\n",
       "    </tr>\n",
       "    <tr>\n",
       "      <th>weight</th>\n",
       "      <td>11.0000</td>\n",
       "      <td>200.0000</td>\n",
       "    </tr>\n",
       "    <tr>\n",
       "      <th>gender</th>\n",
       "      <td>0.0000</td>\n",
       "      <td>1.0000</td>\n",
       "    </tr>\n",
       "    <tr>\n",
       "      <th>pressure_high</th>\n",
       "      <td>24.0000</td>\n",
       "      <td>240.0000</td>\n",
       "    </tr>\n",
       "    <tr>\n",
       "      <th>pressure_low</th>\n",
       "      <td>15.0000</td>\n",
       "      <td>170.0000</td>\n",
       "    </tr>\n",
       "  </tbody>\n",
       "</table>\n",
       "</div>"
      ],
      "text/plain": [
       "                   min        max\n",
       "id              0.0000 99999.0000\n",
       "cholesterol     0.0000     2.0000\n",
       "gluc            0.0000     2.0000\n",
       "smoke           0.0000     1.0000\n",
       "alco            0.0000     1.0000\n",
       "active          0.0000     1.0000\n",
       "diabetes        0.0000     1.0000\n",
       "age            29.5836    64.9342\n",
       "height        104.0000   207.0000\n",
       "weight         11.0000   200.0000\n",
       "gender          0.0000     1.0000\n",
       "pressure_high  24.0000   240.0000\n",
       "pressure_low   15.0000   170.0000"
      ]
     },
     "execution_count": 14,
     "metadata": {},
     "output_type": "execute_result"
    }
   ],
   "source": [
    "diabetes_cleaned = diabetes_cleaned[outlier == False]\n",
    "diabetes_cleaned.describe().T[[\"min\", \"max\"]]"
   ]
  },
  {
   "cell_type": "markdown",
   "id": "5749074b",
   "metadata": {},
   "source": [
    "### Logistic regression"
   ]
  },
  {
   "cell_type": "code",
   "execution_count": 15,
   "id": "13df5c8e",
   "metadata": {},
   "outputs": [],
   "source": [
    "features = [\n",
    "    'cholesterol', \n",
    "    'gluc', \n",
    "    'smoke',\n",
    "    'alco',\n",
    "    'active',      \n",
    "    'gender',\n",
    "    'age',\n",
    "    'height', \n",
    "    'weight', \n",
    "    'pressure_high',\n",
    "    'pressure_low' \n",
    "]"
   ]
  },
  {
   "cell_type": "markdown",
   "id": "a8209c96",
   "metadata": {},
   "source": [
    "#### Build the statistical model"
   ]
  },
  {
   "cell_type": "code",
   "execution_count": 16,
   "id": "2a770b8d",
   "metadata": {
    "scrolled": false
   },
   "outputs": [
    {
     "name": "stdout",
     "output_type": "stream",
     "text": [
      "Optimization terminated successfully.\n",
      "         Current function value: 0.106130\n",
      "         Iterations 10\n",
      "                           Logit Regression Results                           \n",
      "==============================================================================\n",
      "Dep. Variable:               diabetes   No. Observations:                66484\n",
      "Model:                          Logit   Df Residuals:                    66473\n",
      "Method:                           MLE   Df Model:                           10\n",
      "Date:                Tue, 19 Oct 2021   Pseudo R-squ.:                  0.8076\n",
      "Time:                        13:53:43   Log-Likelihood:                -7056.0\n",
      "converged:                       True   LL-Null:                       -36675.\n",
      "Covariance Type:            nonrobust   LLR p-value:                     0.000\n",
      "=================================================================================\n",
      "                    coef    std err          z      P>|z|      [0.025      0.975]\n",
      "---------------------------------------------------------------------------------\n",
      "cholesterol       2.6356      0.042     63.482      0.000       2.554       2.717\n",
      "gluc              6.8400      0.088     77.357      0.000       6.667       7.013\n",
      "smoke             0.0438      0.073      0.596      0.551      -0.100       0.188\n",
      "alco              0.0334      0.091      0.368      0.713      -0.144       0.211\n",
      "active           -6.9418      0.090    -77.030      0.000      -7.118      -6.765\n",
      "gender            7.4081      0.098     75.402      0.000       7.215       7.601\n",
      "age               0.2701      0.005     59.521      0.000       0.261       0.279\n",
      "height           -0.2545      0.003    -76.821      0.000      -0.261      -0.248\n",
      "weight            0.1803      0.003     70.792      0.000       0.175       0.185\n",
      "pressure_high    -0.0097      0.002     -5.611      0.000      -0.013      -0.006\n",
      "pressure_low      0.1367      0.003     39.774      0.000       0.130       0.143\n",
      "=================================================================================\n",
      "\n",
      "Possibly complete quasi-separation: A fraction 0.38 of observations can be\n",
      "perfectly predicted. This might indicate that there is complete\n",
      "quasi-separation. In this case some parameters will not be identified.\n"
     ]
    }
   ],
   "source": [
    "import statsmodels.api as sm\n",
    "\n",
    "stat_model = sm.Logit(diabetes_cleaned.diabetes, diabetes_cleaned[features])\n",
    "stat_model = stat_model.fit()\n",
    "print(stat_model.summary())"
   ]
  },
  {
   "cell_type": "markdown",
   "id": "137c0476",
   "metadata": {},
   "source": [
    "#### Build the prediction model"
   ]
  },
  {
   "cell_type": "code",
   "execution_count": 17,
   "id": "3eb06800",
   "metadata": {},
   "outputs": [],
   "source": [
    "significant_features = [\n",
    "    'cholesterol', \n",
    "    'gluc', \n",
    "    'active',      \n",
    "    'gender',\n",
    "    'age',\n",
    "    'height', \n",
    "    'weight', \n",
    "    'pressure_high',\n",
    "    'pressure_low' \n",
    "]"
   ]
  },
  {
   "cell_type": "markdown",
   "id": "80d2e382",
   "metadata": {},
   "source": [
    "Let's normalize the data before training the model. We normalize the test data with the feature min and feature max from the training data."
   ]
  },
  {
   "cell_type": "code",
   "execution_count": 18,
   "id": "e8e10dad",
   "metadata": {},
   "outputs": [],
   "source": [
    "# Train data\n",
    "X_train = diabetes_cleaned[diabetes_cleaned[\"ind\"].eq(\"train\")][significant_features]\n",
    "feature_min, feature_max = X_train.min(), X_train.max()\n",
    "\n",
    "# Test data\n",
    "X_test = diabetes_cleaned[diabetes_cleaned[\"ind\"].eq(\"test\")][significant_features]\n",
    "\n",
    "# Min-Max-Normalization\n",
    "X_train = (X_train - feature_min)/(feature_max - feature_min)\n",
    "X_test = (X_test - feature_min)/(feature_max - feature_min)\n",
    "\n",
    "# Labels\n",
    "y_train = diabetes_cleaned[diabetes_cleaned[\"ind\"].eq(\"train\")][\"diabetes\"]\n",
    "y_test = diabetes_cleaned[diabetes_cleaned[\"ind\"].eq(\"test\")][\"diabetes\"]"
   ]
  },
  {
   "cell_type": "code",
   "execution_count": 19,
   "id": "5c68be14",
   "metadata": {
    "scrolled": true
   },
   "outputs": [
    {
     "name": "stdout",
     "output_type": "stream",
     "text": [
      "Train accuracy: 0.9912\n",
      "Test accuracy: 0.9919\n"
     ]
    }
   ],
   "source": [
    "from sklearn.linear_model import LogisticRegression\n",
    "\n",
    "# Build the model\n",
    "logistic_regression = LogisticRegression()\n",
    "logistic_regression = logistic_regression.fit(X_train, y_train)\n",
    "\n",
    "# Predict test and train data\n",
    "accuracy = {}\n",
    "accuracy[\"train\"] = logistic_regression.score(X_train, y_train)\n",
    "accuracy[\"test\"] = logistic_regression.score(X_test, y_test)\n",
    "print(f'Train accuracy: {accuracy[\"train\"]:.4f}')\n",
    "print(f'Test accuracy: {accuracy[\"test\"]:.4f}')\n",
    "\n",
    "# Predict test data\n",
    "pred_diabetes_prob = logistic_regression.predict_proba(X_test)[:,1]\n",
    "y_pred = pred_diabetes_prob > 0.5"
   ]
  },
  {
   "cell_type": "markdown",
   "id": "da6e2688",
   "metadata": {},
   "source": [
    "### Inspect classification result"
   ]
  },
  {
   "cell_type": "code",
   "execution_count": 20,
   "id": "f92a94ef",
   "metadata": {
    "scrolled": true
   },
   "outputs": [
    {
     "name": "stdout",
     "output_type": "stream",
     "text": [
      "              precision    recall  f1-score   support\n",
      "\n",
      "           0       0.99      1.00      0.99      7194\n",
      "           1       0.99      0.98      0.98      2307\n",
      "\n",
      "    accuracy                           0.99      9501\n",
      "   macro avg       0.99      0.99      0.99      9501\n",
      "weighted avg       0.99      0.99      0.99      9501\n",
      "\n"
     ]
    }
   ],
   "source": [
    "from sklearn.metrics import classification_report\n",
    "print(classification_report(y_test, y_pred))"
   ]
  },
  {
   "cell_type": "code",
   "execution_count": 21,
   "id": "54a54f18",
   "metadata": {},
   "outputs": [
    {
     "data": {
      "image/png": "[encoded data removed]",
      "text/plain": [
       "<Figure size 432x288 with 1 Axes>"
      ]
     },
     "metadata": {
      "needs_background": "light"
     },
     "output_type": "display_data"
    }
   ],
   "source": [
    "from sklearn.metrics import roc_auc_score\n",
    "from sklearn.metrics import roc_curve\n",
    "roc_auc_scores = roc_auc_score(y_test, y_pred)\n",
    "fpr, tpr, thresholds = roc_curve(y_test, pred_diabetes_prob)\n",
    "plt.figure()\n",
    "plt.plot(fpr, tpr, label='Logistic Regression (area = %0.2f)' % roc_auc_scores)\n",
    "plt.plot([0, 1], [0, 1],'r--')\n",
    "plt.xlim([0.0, 1.0])\n",
    "plt.ylim([0.0, 1.05])\n",
    "plt.xlabel('False Positive Rate')\n",
    "plt.ylabel('True Positive Rate')\n",
    "plt.title('Receiver operating characteristic')\n",
    "plt.legend(loc=\"lower right\")\n",
    "plt.show()"
   ]
  },
  {
   "cell_type": "code",
   "execution_count": null,
   "id": "94f2ff3f",
   "metadata": {},
   "outputs": [],
   "source": []
  }
 ],
 "metadata": {
  "interpreter": {
   "hash": "b9248338e2a9ba20c9955375ee4772f0f40a59965ae36649b9915d66ab3b4f18"
  },
  "kernelspec": {
   "display_name": "Python 3 (ipykernel)",
   "language": "python",
   "name": "python3"
  },
  "language_info": {
   "codemirror_mode": {
    "name": "ipython",
    "version": 3
   },
   "file_extension": ".py",
   "mimetype": "text/x-python",
   "name": "python",
   "nbconvert_exporter": "python",
   "pygments_lexer": "ipython3",
   "version": "3.9.7"
  }
 },
 "nbformat": 4,
 "nbformat_minor": 5
}
